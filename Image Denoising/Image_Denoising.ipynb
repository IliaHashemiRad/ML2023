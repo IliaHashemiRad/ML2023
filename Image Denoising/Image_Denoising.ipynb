{
  "cells": [
    {
      "cell_type": "markdown",
      "metadata": {
        "id": "f5afn_qxNby3"
      },
      "source": [
        "<div align=center>\n",
        "\n",
        "<p></p>\n",
        "<p></p>\n",
        "<font size=5>\n",
        "In the Name of God\n",
        "<font/>\n",
        "<p></p>\n",
        " <br/>\n",
        "    <br/>\n",
        "<font color=#4d7db8>\n",
        "Sharif University of Technology - Department of Electrical Engineering\n",
        "</font>\n",
        "<p></p>\n",
        "<font color=#4d7db8>\n",
        "Introduction To Machine Learning - Dr. Sajjad Amini\n",
        "</font>\n",
        "<br/>\n",
        "<br/>\n",
        "Spring Semester 1401-02\n",
        "\n",
        "<div/>\n",
        "\n",
        "<hr/>\n",
        "\t\t<div align=center>\n",
        "\t\t    <font color=red size=6>\n",
        "\t\t\t    <br />\n",
        "Project - 3rd Phase\n",
        "<br />\n",
        "Image Denoising using Autoencoder and PCA\n",
        "\t\t\t</font>\n",
        "    <br/>\n",
        "<font size=4>\n",
        "\t\t\t<br/><br/>\n",
        "Due on Tir 10th\n",
        "                <br/><b>\n",
        "              Cheating is Strongly Prohibited\n",
        "                </b><br/><br/>\n",
        "                <font color=green>\n",
        "Should you have any questions concerning the project, please feel free to ask via Telegram.\n",
        "     </font>\n",
        "</font>\n",
        "                <br/>\n",
        "    </div>"
      ]
    },
    {
      "cell_type": "markdown",
      "metadata": {
        "id": "Qydi_asANby7"
      },
      "source": [
        "# Personal Info\n",
        "<hr/>\n",
        "    <div class=\"column\" align=center>\n",
        "    <font size=4>\n",
        "        <div class=\"column\">\n",
        "        <br />\n",
        "            student_number = 99102456\n",
        "            <br />\n",
        "            Name = Ilia\n",
        "            <br />\n",
        "            Last_Name = Hashmei Rad\n",
        "        </div>\n",
        "        <div class=\"column\">\n",
        "        <br />\n",
        "            student_number = 400109479\n",
        "            <br />\n",
        "            Name = MohammadPouya   \n",
        "            <br />\n",
        "            Last_Name = Toroghi\n",
        "        </div>\n",
        "    </font>\n",
        "    </div>\n"
      ]
    },
    {
      "cell_type": "markdown",
      "metadata": {
        "id": "UpqOZ2JemP0B",
        "tags": []
      },
      "source": [
        "1. Download the MNIST dataset and create a dataloader that adds gaussian noise to the input images.\n",
        "2. Design and train an AutoEncoder on the MNIST dataset to denoise the noisy images.\n",
        "3. Visualize original images, their corresponding noisy images and their reconstructed versions side by side.\n",
        "4. Repeat the previous steps using PCA algorithm."
      ]
    },
    {
      "cell_type": "markdown",
      "metadata": {
        "id": "r6OppBXKNby8"
      },
      "source": [
        "# Import Necessary Libraries"
      ]
    },
    {
      "cell_type": "code",
      "execution_count": 8,
      "metadata": {
        "vscode": {
          "languageId": "plaintext"
        },
        "id": "piCYYLcpNby8"
      },
      "outputs": [],
      "source": [
        "import torchvision\n",
        "import torchvision.transforms as transforms\n",
        "import torch\n",
        "import torch.utils.data as data\n",
        "import numpy as np\n",
        "import matplotlib.pyplot as plt\n",
        "import torch\n",
        "import torch.nn as nn\n",
        "import torch.optim as optim\n",
        "from torchvision import datasets, transforms\n",
        "from sklearn.decomposition import PCA\n",
        "from sklearn.datasets import fetch_openml\n",
        "import tensorflow as tf"
      ]
    },
    {
      "cell_type": "markdown",
      "metadata": {
        "id": "ks82W6bONby9"
      },
      "source": [
        "# Load Dataset and Prepare It"
      ]
    },
    {
      "cell_type": "code",
      "execution_count": 39,
      "metadata": {
        "vscode": {
          "languageId": "plaintext"
        },
        "id": "Y72iTMl_Nby9"
      },
      "outputs": [],
      "source": [
        "# Define the transform to normalize the data and convert it to tensors\n",
        "transform = transforms.Compose([\n",
        "    transforms.ToTensor(),\n",
        "])\n",
        "\n",
        "# Download the training set\n",
        "trainset = torchvision.datasets.MNIST(root='./data', train=True, download=True, transform=transform)\n",
        "\n",
        "# Download the test set\n",
        "testset = torchvision.datasets.MNIST(root='./data', train=False, download=True, transform=transform)"
      ]
    },
    {
      "cell_type": "code",
      "execution_count": 40,
      "metadata": {
        "vscode": {
          "languageId": "plaintext"
        },
        "id": "HV8cNlEnNby-"
      },
      "outputs": [],
      "source": [
        "# Define a custom transform to add Gaussian noise\n",
        "class AddGaussianNoise(object):\n",
        "    def __init__(self, mean=0.0, std=1.0):\n",
        "        self.mean = mean\n",
        "        self.std = std\n",
        "\n",
        "    def __call__(self, tensor):\n",
        "        return tensor + torch.randn(tensor.size()) * self.std + self.mean\n",
        "\n",
        "# Apply the noise transform to the trainset and testset\n",
        "trainset_noisy = torchvision.datasets.MNIST(root='./data', train=True, download=True, transform=transforms.Compose([\n",
        "    transforms.ToTensor(),\n",
        "    AddGaussianNoise(0.0, 0.1)\n",
        "]))\n",
        "\n",
        "testset_noisy = torchvision.datasets.MNIST(root='./data', train=False, download=True, transform=transforms.Compose([\n",
        "    transforms.ToTensor(),\n",
        "    AddGaussianNoise(0.0, 0.1)\n",
        "]))\n",
        "\n",
        "# Define the batch size for training and testing\n",
        "batch_size = 64\n",
        "\n",
        "# Create dataloaders for the original and noisy datasets\n",
        "trainloader = data.DataLoader(trainset, batch_size=batch_size, shuffle=True)\n",
        "trainloader_noisy = data.DataLoader(trainset_noisy, batch_size=batch_size, shuffle=True)\n",
        "\n",
        "testloader = data.DataLoader(testset, batch_size=batch_size, shuffle=False)\n",
        "testloader_noisy = data.DataLoader(testset_noisy, batch_size=batch_size, shuffle=False)\n"
      ]
    },
    {
      "cell_type": "markdown",
      "metadata": {
        "id": "TJhPCwpiNby-"
      },
      "source": [
        "# Define Your Model\n",
        "torch neural network model"
      ]
    },
    {
      "cell_type": "code",
      "execution_count": 47,
      "metadata": {
        "vscode": {
          "languageId": "plaintext"
        },
        "id": "FOzHrgbANby-"
      },
      "outputs": [],
      "source": [
        "class AutoEncoder(nn.Module):\n",
        "    def __init__(self):\n",
        "        super(AutoEncoder, self).__init__()\n",
        "\n",
        "        # Encoder\n",
        "        self.encoder = nn.Sequential(\n",
        "            nn.Linear(28 * 28, 256),\n",
        "            nn.ReLU(True),\n",
        "            nn.Linear(256, 64),\n",
        "            nn.ReLU(True),\n",
        "        )\n",
        "\n",
        "        # Decoder\n",
        "        self.decoder = nn.Sequential(\n",
        "            nn.Linear(64, 256),\n",
        "            nn.ReLU(True),\n",
        "            nn.Linear(256, 28 * 28),\n",
        "            nn.Sigmoid()\n",
        "        )\n",
        "\n",
        "    def forward(self, x):\n",
        "        x = self.encoder(x)\n",
        "        x = self.decoder(x)\n",
        "        return x"
      ]
    },
    {
      "cell_type": "markdown",
      "source": [
        "In this implementation, the encoder consists of two fully connected layers with ReLU activation functions, which reduce the input data from the original 28$\\times$28 size to a 64-dimensional representation. The decoder then consists of two fully connected layers with ReLU and sigmoid activation functions, which expand the 64-dimensional representation back to the original 28$\\times$28 size.\n",
        "\n",
        "The forward method of the AutoEncoder class takes the input x and passes it through the encoder and decoder to obtain the reconstructed output."
      ],
      "metadata": {
        "id": "5ZnCe0vy85pv"
      }
    },
    {
      "cell_type": "markdown",
      "metadata": {
        "id": "6jnsNp7yNby_"
      },
      "source": [
        "# Fit The Model\n",
        "Also Define optimizer, Criterion and other parameters"
      ]
    },
    {
      "cell_type": "code",
      "execution_count": 48,
      "metadata": {
        "vscode": {
          "languageId": "plaintext"
        },
        "colab": {
          "base_uri": "https://localhost:8080/"
        },
        "id": "4CQBQK6LNby_",
        "outputId": "15f40039-c0ff-4778-859a-2b5c4280bc79"
      },
      "outputs": [
        {
          "output_type": "stream",
          "name": "stdout",
          "text": [
            "Epoch 1/10 - Train Loss: 0.0416 - Test Loss: 0.0248\n",
            "Epoch 2/10 - Train Loss: 0.0222 - Test Loss: 0.0198\n",
            "Epoch 3/10 - Train Loss: 0.0192 - Test Loss: 0.0182\n",
            "Epoch 4/10 - Train Loss: 0.0178 - Test Loss: 0.0170\n",
            "Epoch 5/10 - Train Loss: 0.0168 - Test Loss: 0.0164\n",
            "Epoch 6/10 - Train Loss: 0.0162 - Test Loss: 0.0159\n",
            "Epoch 7/10 - Train Loss: 0.0158 - Test Loss: 0.0156\n",
            "Epoch 8/10 - Train Loss: 0.0155 - Test Loss: 0.0153\n",
            "Epoch 9/10 - Train Loss: 0.0153 - Test Loss: 0.0151\n",
            "Epoch 10/10 - Train Loss: 0.0151 - Test Loss: 0.0150\n"
          ]
        }
      ],
      "source": [
        "# Instantiate the AutoEncoder model\n",
        "model = AutoEncoder()\n",
        "\n",
        "# Define the optimizer\n",
        "optimizer = optim.Adam(model.parameters(), lr=0.001)\n",
        "\n",
        "# Define the criterion (loss function)\n",
        "criterion = nn.MSELoss()\n",
        "\n",
        "# Define the number of epochs for training\n",
        "num_epochs = 10\n",
        "\n",
        "# Training loop\n",
        "for epoch in range(num_epochs):\n",
        "    running_loss = 0.0\n",
        "\n",
        "    # Training phase\n",
        "    for images, _ in trainloader_noisy:\n",
        "        # Flatten the images\n",
        "        images = images.view(-1, 28 * 28)\n",
        "\n",
        "        # Zero the gradients\n",
        "        optimizer.zero_grad()\n",
        "\n",
        "        # Forward pass\n",
        "        outputs = model(images)\n",
        "\n",
        "        # Calculate the loss\n",
        "        loss = criterion(outputs, images)\n",
        "\n",
        "        # Backward pass and optimization\n",
        "        loss.backward()\n",
        "        optimizer.step()\n",
        "\n",
        "        running_loss += loss.item()\n",
        "\n",
        "    # Compute the average training loss for the epoch\n",
        "    train_loss = running_loss / len(trainloader_noisy)\n",
        "\n",
        "    # Evaluation phase\n",
        "    with torch.no_grad():\n",
        "        model.eval()\n",
        "        running_loss = 0.0\n",
        "\n",
        "        for images, _ in testloader_noisy:\n",
        "            # Flatten the images\n",
        "            images = images.view(-1, 28 * 28)\n",
        "\n",
        "            # Forward pass\n",
        "            outputs = model(images)\n",
        "\n",
        "            # Calculate the loss\n",
        "            loss = criterion(outputs, images)\n",
        "\n",
        "            running_loss += loss.item()\n",
        "\n",
        "        # Compute the average test loss for the epoch\n",
        "        test_loss = running_loss / len(testloader_noisy)\n",
        "\n",
        "    # Print the training and test loss for each epoch\n",
        "    print(f\"Epoch {epoch+1}/{num_epochs} - Train Loss: {train_loss:.4f} - Test Loss: {test_loss:.4f}\")\n",
        "\n",
        "    # Set the model back to training mode\n",
        "    model.train()"
      ]
    },
    {
      "cell_type": "markdown",
      "source": [
        "In this model, the reconstruction loss is minimized using the mean squared error (MSE) loss between the original input data and the reconstructed output data. The MSE loss measures the average squared difference between the original and reconstructed data and is a common choice for our autoencoder model.\n",
        "\n",
        "During training, the model takes an input data point, passes it through the encoder to obtain a compressed representation, and then passes the compressed representation through the decoder to obtain the reconstructed output. The MSE loss between the original input data and the reconstructed output data is then computed and used to update the model's parameters through backpropagation.\n",
        "\n",
        "The optimization algorithm used to update the model's parameters is typically stochastic gradient descent (SGD) or one of its variants such as Adam. The goal of the optimization algorithm is to find the set of parameters that minimize the reconstruction loss over the training set."
      ],
      "metadata": {
        "id": "fwUioeEmBgG9"
      }
    },
    {
      "cell_type": "markdown",
      "metadata": {
        "id": "yYTTpr0KNby_"
      },
      "source": [
        "# Plot The Results"
      ]
    },
    {
      "cell_type": "code",
      "execution_count": 49,
      "metadata": {
        "vscode": {
          "languageId": "plaintext"
        },
        "colab": {
          "base_uri": "https://localhost:8080/",
          "height": 471
        },
        "id": "mzVuGFU2Nby_",
        "outputId": "41e21a08-b47f-4636-86ca-ca95600a854d"
      },
      "outputs": [
        {
          "output_type": "display_data",
          "data": {
            "text/plain": [
              "<Figure size 640x480 with 15 Axes>"
            ],
            "image/png": "[encoded data removed]"
          },
          "metadata": {}
        }
      ],
      "source": [
        "# Set the model to evaluation mode\n",
        "model.eval()\n",
        "\n",
        "# Get a batch of test images and their noisy versions\n",
        "images, _ = next(iter(testloader))\n",
        "noisy_images, _ = next(iter(testloader_noisy))\n",
        "\n",
        "# Flatten the images\n",
        "images = images.view(-1, 28 * 28)\n",
        "noisy_images = noisy_images.view(-1, 28 * 28)\n",
        "\n",
        "# Pass the noisy images through the AutoEncoder\n",
        "with torch.no_grad():\n",
        "    reconstructed_images = model(noisy_images)\n",
        "\n",
        "# Reshape the images back to their original shape\n",
        "images = images.view(-1, 28, 28)\n",
        "noisy_images = noisy_images.view(-1, 28, 28)\n",
        "reconstructed_images = reconstructed_images.view(-1, 28, 28)\n",
        "\n",
        "# Plot the original images, noisy images, and reconstructed images\n",
        "num_samples = 5\n",
        "\n",
        "for i in range(num_samples):\n",
        "    plt.subplot(3, num_samples, i + 1)\n",
        "    plt.imshow(images[i], cmap='gray')\n",
        "    plt.title(\"Original\")\n",
        "    plt.axis('off')\n",
        "\n",
        "    plt.subplot(3, num_samples, num_samples + i + 1)\n",
        "    plt.imshow(noisy_images[i], cmap='gray')\n",
        "    plt.title(\"Noisy\")\n",
        "    plt.axis('off')\n",
        "\n",
        "    plt.subplot(3, num_samples, 2 * num_samples + i + 1)\n",
        "    plt.imshow(reconstructed_images[i], cmap='gray')\n",
        "    plt.title(\"Reconstructed\")\n",
        "    plt.axis('off')\n",
        "\n",
        "plt.tight_layout()\n",
        "plt.show()\n"
      ]
    },
    {
      "cell_type": "markdown",
      "metadata": {
        "id": "Htrzis97Nby_"
      },
      "source": [
        "# PCA"
      ]
    },
    {
      "cell_type": "code",
      "source": [
        "# Step 1: Load the MNIST dataset\n",
        "mnist = tf.keras.datasets.mnist\n",
        "(X_train, _), (X_test, _) = mnist.load_data()\n",
        "\n",
        "# Step 2: Flatten the image data\n",
        "X_train = X_train.reshape(-1, 28 * 28)\n",
        "X_test = X_test.reshape(-1, 28 * 28)\n",
        "\n",
        "# Step 3: Add Gaussian noise to the datasets\n",
        "noise_stddev = 15\n",
        "\n",
        "X_train_noisy = X_train + np.random.normal(scale=noise_stddev, size=X_train.shape)\n",
        "X_test_noisy = X_test + np.random.normal(scale=noise_stddev, size=X_test.shape)\n",
        "\n",
        "# Step 4: Denoise the datasets using PCA\n",
        "n_components = 0.85\n",
        "\n",
        "# Fit PCA on the training set\n",
        "pca = PCA(n_components=n_components)\n",
        "pca.fit(X_train_noisy)\n",
        "\n",
        "# Denoise the training, validation, and testing sets\n",
        "X_train_denoised = pca.inverse_transform(pca.transform(X_train_noisy))\n",
        "X_test_denoised = pca.inverse_transform(pca.transform(X_test_noisy))\n",
        "\n",
        "# Choose random images for plotting\n",
        "num_images = 5\n",
        "\n",
        "random_indices = np.random.choice(range(len(X_train)), num_images)\n",
        "\n",
        "# Plot the original images\n",
        "plt.figure(figsize=(7, 7))\n",
        "for i, idx in enumerate(random_indices):\n",
        "    plt.subplot(3, num_images, i + 1)\n",
        "    plt.imshow(X_train[idx].reshape(28, 28), cmap='gray')\n",
        "    plt.title('Original')\n",
        "    plt.axis('off')\n",
        "\n",
        "# Plot the noisy images\n",
        "for i, idx in enumerate(random_indices):\n",
        "    plt.subplot(3, num_images, num_images + i + 1)\n",
        "    plt.imshow(X_train_noisy[idx].reshape(28, 28), cmap='gray')\n",
        "    plt.title('Noisy')\n",
        "    plt.axis('off')\n",
        "\n",
        "# Plot the reconstructed images\n",
        "for i, idx in enumerate(random_indices):\n",
        "    plt.subplot(3, num_images, 2 * num_images + i + 1)\n",
        "    plt.imshow(X_train_denoised[idx].reshape(28, 28), cmap='gray')\n",
        "    plt.title('Reconstructed')\n",
        "    plt.axis('off')\n",
        "\n",
        "plt.tight_layout()\n",
        "plt.show()\n"
      ],
      "metadata": {
        "colab": {
          "base_uri": "https://localhost:8080/",
          "height": 609
        },
        "id": "T4VypFForC7m",
        "outputId": "a4f90817-4564-4973-f2a4-fa006c34f226"
      },
      "execution_count": 19,
      "outputs": [
        {
          "output_type": "display_data",
          "data": {
            "text/plain": [
              "<Figure size 700x700 with 15 Axes>"
            ],
            "image/png": "[encoded data removed]"
          },
          "metadata": {}
        }
      ]
    },
    {
      "cell_type": "markdown",
      "source": [
        "As you can see, denoising with AutoEncoders Usually performs better than PCA because autoencoders are capable of learning more complex and non-linear relationships between the input data and the denoised output, whereas PCA can only capture linear combinations of the input features.\n",
        "\n",
        "PCA is a dimensionality reduction technique that finds the principal components of the input data by projecting it onto a low-dimensional subspace that captures the most variance in the data.\n",
        "\n",
        "Autoencoders, on the other hand, are neural networks that can learn non-linear representations of the input data through a series of non-linear transformations. In the case of denoising, the autoencoder learns to map the noisy input data to the corresponding clean output data by passing it through a series of non-linear transformations in the encoder and decoder. This allows the autoencoder to capture more complex and non-linear relationships between the input data and the denoised output, which may be more effective at removing certain types of noise."
      ],
      "metadata": {
        "id": "Vxe3g3yYEcf3"
      }
    }
  ],
  "metadata": {
    "colab": {
      "provenance": []
    },
    "kernelspec": {
      "display_name": "Python 3",
      "name": "python3"
    },
    "language_info": {
      "name": "python"
    }
  },
  "nbformat": 4,
  "nbformat_minor": 0
}