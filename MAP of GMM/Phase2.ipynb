{
  "nbformat": 4,
  "nbformat_minor": 0,
  "metadata": {
    "colab": {
      "provenance": []
    },
    "kernelspec": {
      "name": "python3",
      "display_name": "Python 3"
    },
    "language_info": {
      "name": "python"
    }
  },
  "cells": [
    {
      "cell_type": "markdown",
      "source": [
        "## Simulation Question 1:"
      ],
      "metadata": {
        "id": "IFcbA5alKnxt"
      }
    },
    {
      "cell_type": "markdown",
      "source": [
        "Loading MNIST train data set from $\\texttt{keras}$ library"
      ],
      "metadata": {
        "id": "Qmdr97KMDAUn"
      }
    },
    {
      "cell_type": "code",
      "execution_count": 187,
      "metadata": {
        "id": "PqwFq5E5FYad"
      },
      "outputs": [],
      "source": [
        "from keras.datasets import mnist\n",
        "\n",
        "(train_X, _), (_, _) = mnist.load_data()"
      ]
    },
    {
      "cell_type": "markdown",
      "source": [
        "patching the training images"
      ],
      "metadata": {
        "id": "X4cGOjXtHdW8"
      }
    },
    {
      "cell_type": "code",
      "source": [
        "import numpy as np\n",
        "\n",
        "m = 8  # patch size\n",
        "image_size = train_X[0].shape[1]\n",
        "num_images = 1000  # number of images to use\n",
        "patches_per_image = ((image_size - m + 1) ** 2)  # number of patches per image\n",
        "num_patches = num_images * patches_per_image  # total number of patches\n",
        "\n",
        "patches = np.zeros((num_patches, m ** 2))  # initialize array to hold patches\n",
        "\n",
        "patch_count = 0  # initialize patch counter\n",
        "\n",
        "for i in range(num_images):\n",
        "    image = train_X[i]\n",
        "    patches_view = np.lib.stride_tricks.as_strided(\n",
        "        image, shape=(image_size - m + 1, image_size - m + 1, m, m), strides=image.strides * 2)\n",
        "    patches_reshaped = patches_view.reshape((-1, m ** 2))\n",
        "    patches[patch_count:patch_count + patches_reshaped.shape[0]] = patches_reshaped\n",
        "    patch_count += patches_reshaped.shape[0]"
      ],
      "metadata": {
        "id": "SY4mPotGWozf"
      },
      "execution_count": 210,
      "outputs": []
    },
    {
      "cell_type": "markdown",
      "source": [
        "## Simulation Question 2:"
      ],
      "metadata": {
        "id": "oPE4nJVLOn-9"
      }
    },
    {
      "cell_type": "code",
      "source": [
        "from sklearn.mixture import GaussianMixture\n",
        "\n",
        "# Fit GMM model\n",
        "gmm = GaussianMixture(n_components=11, max_iter=100)\n",
        "gmm.fit(patches)"
      ],
      "metadata": {
        "colab": {
          "base_uri": "https://localhost:8080/",
          "height": 74
        },
        "id": "0tvSi945S-cl",
        "outputId": "70e78e8a-bdf1-43f3-d409-fd114c897a2c"
      },
      "execution_count": 211,
      "outputs": [
        {
          "output_type": "execute_result",
          "data": {
            "text/plain": [
              "GaussianMixture(n_components=11)"
            ],
            "text/html": [
              "<style>#sk-container-id-5 {color: black;background-color: white;}#sk-container-id-5 pre{padding: 0;}#sk-container-id-5 div.sk-toggleable {background-color: white;}#sk-container-id-5 label.sk-toggleable__label {cursor: pointer;display: block;width: 100%;margin-bottom: 0;padding: 0.3em;box-sizing: border-box;text-align: center;}#sk-container-id-5 label.sk-toggleable__label-arrow:before {content: \"▸\";float: left;margin-right: 0.25em;color: #696969;}#sk-container-id-5 label.sk-toggleable__label-arrow:hover:before {color: black;}#sk-container-id-5 div.sk-estimator:hover label.sk-toggleable__label-arrow:before {color: black;}#sk-container-id-5 div.sk-toggleable__content {max-height: 0;max-width: 0;overflow: hidden;text-align: left;background-color: #f0f8ff;}#sk-container-id-5 div.sk-toggleable__content pre {margin: 0.2em;color: black;border-radius: 0.25em;background-color: #f0f8ff;}#sk-container-id-5 input.sk-toggleable__control:checked~div.sk-toggleable__content {max-height: 200px;max-width: 100%;overflow: auto;}#sk-container-id-5 input.sk-toggleable__control:checked~label.sk-toggleable__label-arrow:before {content: \"▾\";}#sk-container-id-5 div.sk-estimator input.sk-toggleable__control:checked~label.sk-toggleable__label {background-color: #d4ebff;}#sk-container-id-5 div.sk-label input.sk-toggleable__control:checked~label.sk-toggleable__label {background-color: #d4ebff;}#sk-container-id-5 input.sk-hidden--visually {border: 0;clip: rect(1px 1px 1px 1px);clip: rect(1px, 1px, 1px, 1px);height: 1px;margin: -1px;overflow: hidden;padding: 0;position: absolute;width: 1px;}#sk-container-id-5 div.sk-estimator {font-family: monospace;background-color: #f0f8ff;border: 1px dotted black;border-radius: 0.25em;box-sizing: border-box;margin-bottom: 0.5em;}#sk-container-id-5 div.sk-estimator:hover {background-color: #d4ebff;}#sk-container-id-5 div.sk-parallel-item::after {content: \"\";width: 100%;border-bottom: 1px solid gray;flex-grow: 1;}#sk-container-id-5 div.sk-label:hover label.sk-toggleable__label {background-color: #d4ebff;}#sk-container-id-5 div.sk-serial::before {content: \"\";position: absolute;border-left: 1px solid gray;box-sizing: border-box;top: 0;bottom: 0;left: 50%;z-index: 0;}#sk-container-id-5 div.sk-serial {display: flex;flex-direction: column;align-items: center;background-color: white;padding-right: 0.2em;padding-left: 0.2em;position: relative;}#sk-container-id-5 div.sk-item {position: relative;z-index: 1;}#sk-container-id-5 div.sk-parallel {display: flex;align-items: stretch;justify-content: center;background-color: white;position: relative;}#sk-container-id-5 div.sk-item::before, #sk-container-id-5 div.sk-parallel-item::before {content: \"\";position: absolute;border-left: 1px solid gray;box-sizing: border-box;top: 0;bottom: 0;left: 50%;z-index: -1;}#sk-container-id-5 div.sk-parallel-item {display: flex;flex-direction: column;z-index: 1;position: relative;background-color: white;}#sk-container-id-5 div.sk-parallel-item:first-child::after {align-self: flex-end;width: 50%;}#sk-container-id-5 div.sk-parallel-item:last-child::after {align-self: flex-start;width: 50%;}#sk-container-id-5 div.sk-parallel-item:only-child::after {width: 0;}#sk-container-id-5 div.sk-dashed-wrapped {border: 1px dashed gray;margin: 0 0.4em 0.5em 0.4em;box-sizing: border-box;padding-bottom: 0.4em;background-color: white;}#sk-container-id-5 div.sk-label label {font-family: monospace;font-weight: bold;display: inline-block;line-height: 1.2em;}#sk-container-id-5 div.sk-label-container {text-align: center;}#sk-container-id-5 div.sk-container {/* jupyter's `normalize.less` sets `[hidden] { display: none; }` but bootstrap.min.css set `[hidden] { display: none !important; }` so we also need the `!important` here to be able to override the default hidden behavior on the sphinx rendered scikit-learn.org. See: https://github.com/scikit-learn/scikit-learn/issues/21755 */display: inline-block !important;position: relative;}#sk-container-id-5 div.sk-text-repr-fallback {display: none;}</style><div id=\"sk-container-id-5\" class=\"sk-top-container\"><div class=\"sk-text-repr-fallback\"><pre>GaussianMixture(n_components=11)</pre><b>In a Jupyter environment, please rerun this cell to show the HTML representation or trust the notebook. <br />On GitHub, the HTML representation is unable to render, please try loading this page with nbviewer.org.</b></div><div class=\"sk-container\" hidden><div class=\"sk-item\"><div class=\"sk-estimator sk-toggleable\"><input class=\"sk-toggleable__control sk-hidden--visually\" id=\"sk-estimator-id-5\" type=\"checkbox\" checked><label for=\"sk-estimator-id-5\" class=\"sk-toggleable__label sk-toggleable__label-arrow\">GaussianMixture</label><div class=\"sk-toggleable__content\"><pre>GaussianMixture(n_components=11)</pre></div></div></div></div></div>"
            ]
          },
          "metadata": {},
          "execution_count": 211
        }
      ]
    },
    {
      "cell_type": "markdown",
      "source": [
        "($\\textbf{Don't run the cell always!}$)\\\n",
        "We use it when we want to save the needed parameters of our GMM model to use them later without waiting too much for the above cell to run."
      ],
      "metadata": {
        "id": "j6b_uXd7H47B"
      }
    },
    {
      "cell_type": "code",
      "source": [
        "from google.colab import files\n",
        "\n",
        "path = '/content/cov_k11m8.npy'\n",
        "np.save( path ,gmm.covariances_)\n",
        "files.download(path)\n",
        "\n",
        "path = '/content/mean_k11m8.npy'\n",
        "np.save( path ,gmm.means_)\n",
        "files.download(path)\n",
        "\n",
        "path = '/content/wei_k11m8.npy'\n",
        "np.save( path ,gmm.weights_)\n",
        "files.download(path)"
      ],
      "metadata": {
        "id": "9fmdPfdBouPc",
        "colab": {
          "base_uri": "https://localhost:8080/",
          "height": 17
        },
        "outputId": "6f2a3904-33bc-4029-de76-b00f9ecd88fd"
      },
      "execution_count": 81,
      "outputs": [
        {
          "output_type": "display_data",
          "data": {
            "text/plain": [
              "<IPython.core.display.Javascript object>"
            ],
            "application/javascript": [
              "\n",
              "    async function download(id, filename, size) {\n",
              "      if (!google.colab.kernel.accessAllowed) {\n",
              "        return;\n",
              "      }\n",
              "      const div = document.createElement('div');\n",
              "      const label = document.createElement('label');\n",
              "      label.textContent = `Downloading \"${filename}\": `;\n",
              "      div.appendChild(label);\n",
              "      const progress = document.createElement('progress');\n",
              "      progress.max = size;\n",
              "      div.appendChild(progress);\n",
              "      document.body.appendChild(div);\n",
              "\n",
              "      const buffers = [];\n",
              "      let downloaded = 0;\n",
              "\n",
              "      const channel = await google.colab.kernel.comms.open(id);\n",
              "      // Send a message to notify the kernel that we're ready.\n",
              "      channel.send({})\n",
              "\n",
              "      for await (const message of channel.messages) {\n",
              "        // Send a message to notify the kernel that we're ready.\n",
              "        channel.send({})\n",
              "        if (message.buffers) {\n",
              "          for (const buffer of message.buffers) {\n",
              "            buffers.push(buffer);\n",
              "            downloaded += buffer.byteLength;\n",
              "            progress.value = downloaded;\n",
              "          }\n",
              "        }\n",
              "      }\n",
              "      const blob = new Blob(buffers, {type: 'application/binary'});\n",
              "      const a = document.createElement('a');\n",
              "      a.href = window.URL.createObjectURL(blob);\n",
              "      a.download = filename;\n",
              "      div.appendChild(a);\n",
              "      a.click();\n",
              "      div.remove();\n",
              "    }\n",
              "  "
            ]
          },
          "metadata": {}
        },
        {
          "output_type": "display_data",
          "data": {
            "text/plain": [
              "<IPython.core.display.Javascript object>"
            ],
            "application/javascript": [
              "download(\"download_2e8fd995-52b3-4469-ba37-eea2c9082b9c\", \"cov_k11m20.npy\", 360576)"
            ]
          },
          "metadata": {}
        },
        {
          "output_type": "display_data",
          "data": {
            "text/plain": [
              "<IPython.core.display.Javascript object>"
            ],
            "application/javascript": [
              "\n",
              "    async function download(id, filename, size) {\n",
              "      if (!google.colab.kernel.accessAllowed) {\n",
              "        return;\n",
              "      }\n",
              "      const div = document.createElement('div');\n",
              "      const label = document.createElement('label');\n",
              "      label.textContent = `Downloading \"${filename}\": `;\n",
              "      div.appendChild(label);\n",
              "      const progress = document.createElement('progress');\n",
              "      progress.max = size;\n",
              "      div.appendChild(progress);\n",
              "      document.body.appendChild(div);\n",
              "\n",
              "      const buffers = [];\n",
              "      let downloaded = 0;\n",
              "\n",
              "      const channel = await google.colab.kernel.comms.open(id);\n",
              "      // Send a message to notify the kernel that we're ready.\n",
              "      channel.send({})\n",
              "\n",
              "      for await (const message of channel.messages) {\n",
              "        // Send a message to notify the kernel that we're ready.\n",
              "        channel.send({})\n",
              "        if (message.buffers) {\n",
              "          for (const buffer of message.buffers) {\n",
              "            buffers.push(buffer);\n",
              "            downloaded += buffer.byteLength;\n",
              "            progress.value = downloaded;\n",
              "          }\n",
              "        }\n",
              "      }\n",
              "      const blob = new Blob(buffers, {type: 'application/binary'});\n",
              "      const a = document.createElement('a');\n",
              "      a.href = window.URL.createObjectURL(blob);\n",
              "      a.download = filename;\n",
              "      div.appendChild(a);\n",
              "      a.click();\n",
              "      div.remove();\n",
              "    }\n",
              "  "
            ]
          },
          "metadata": {}
        },
        {
          "output_type": "display_data",
          "data": {
            "text/plain": [
              "<IPython.core.display.Javascript object>"
            ],
            "application/javascript": [
              "download(\"download_b32da53b-70e1-4184-9b52-5c45d964a306\", \"mean_k11m20.npy\", 5760)"
            ]
          },
          "metadata": {}
        },
        {
          "output_type": "display_data",
          "data": {
            "text/plain": [
              "<IPython.core.display.Javascript object>"
            ],
            "application/javascript": [
              "\n",
              "    async function download(id, filename, size) {\n",
              "      if (!google.colab.kernel.accessAllowed) {\n",
              "        return;\n",
              "      }\n",
              "      const div = document.createElement('div');\n",
              "      const label = document.createElement('label');\n",
              "      label.textContent = `Downloading \"${filename}\": `;\n",
              "      div.appendChild(label);\n",
              "      const progress = document.createElement('progress');\n",
              "      progress.max = size;\n",
              "      div.appendChild(progress);\n",
              "      document.body.appendChild(div);\n",
              "\n",
              "      const buffers = [];\n",
              "      let downloaded = 0;\n",
              "\n",
              "      const channel = await google.colab.kernel.comms.open(id);\n",
              "      // Send a message to notify the kernel that we're ready.\n",
              "      channel.send({})\n",
              "\n",
              "      for await (const message of channel.messages) {\n",
              "        // Send a message to notify the kernel that we're ready.\n",
              "        channel.send({})\n",
              "        if (message.buffers) {\n",
              "          for (const buffer of message.buffers) {\n",
              "            buffers.push(buffer);\n",
              "            downloaded += buffer.byteLength;\n",
              "            progress.value = downloaded;\n",
              "          }\n",
              "        }\n",
              "      }\n",
              "      const blob = new Blob(buffers, {type: 'application/binary'});\n",
              "      const a = document.createElement('a');\n",
              "      a.href = window.URL.createObjectURL(blob);\n",
              "      a.download = filename;\n",
              "      div.appendChild(a);\n",
              "      a.click();\n",
              "      div.remove();\n",
              "    }\n",
              "  "
            ]
          },
          "metadata": {}
        },
        {
          "output_type": "display_data",
          "data": {
            "text/plain": [
              "<IPython.core.display.Javascript object>"
            ],
            "application/javascript": [
              "download(\"download_adf232c8-f268-4329-b7c2-a79040f449d5\", \"wei_k11m20.npy\", 216)"
            ]
          },
          "metadata": {}
        }
      ]
    },
    {
      "cell_type": "markdown",
      "source": [
        "($\\textbf{Don't run the cell always!}$)\\\n",
        "We use it when we want to load the GMM model we have been saved before"
      ],
      "metadata": {
        "id": "jtBAwC_EIMh1"
      }
    },
    {
      "cell_type": "code",
      "source": [
        "import numpy as np\n",
        "from sklearn.mixture import GaussianMixture\n",
        "\n",
        "gmm = GaussianMixture(n_components=11, max_iter=100)\n",
        "gmm.covariances_ = np.load('cov_11.npy')\n",
        "gmm.means_ = np.load('mean_11.npy')\n",
        "gmm.weights_ = np.load('wei_11.npy')\n",
        "gmm.n_components = 11"
      ],
      "metadata": {
        "id": "z1xhOoZN8fd6"
      },
      "execution_count": 225,
      "outputs": []
    },
    {
      "cell_type": "markdown",
      "source": [
        "## Simulation Question 3 & 4:"
      ],
      "metadata": {
        "id": "9cGD7z4cQSnH"
      }
    },
    {
      "cell_type": "markdown",
      "source": [
        "Extracting original and corrupted images(from the train set)"
      ],
      "metadata": {
        "id": "qONRxTeN4y4e"
      }
    },
    {
      "cell_type": "code",
      "source": [
        "from scipy.stats import multivariate_normal\n",
        "import zipfile\n",
        "import numpy as np\n",
        "from PIL import Image\n",
        "\n",
        "# Define image size\n",
        "image_size = (28, 28)\n",
        "\n",
        "# Define paths to zip file and folders\n",
        "zip_path = 'MNIST-m=8.zip'\n",
        "original_folder = '/original/'\n",
        "corrupted_folder = '/corrupted/'\n",
        "indexes = range(1, 218) , range(222, 301)\n",
        "\n",
        "# Open zip file and extract images\n",
        "with zipfile.ZipFile(zip_path, 'r') as zip_file:\n",
        "    # Extract original images\n",
        "    original_images = []\n",
        "    for i in range(1, 301):\n",
        "        if i in [218, 219, 220, 221]:\n",
        "            continue\n",
        "        filename = f'MNIST{original_folder}{i}.png'\n",
        "        with zip_file.open(filename) as image_file:\n",
        "            image = Image.open(image_file).convert('L')\n",
        "            image = np.array(image.resize(image_size))\n",
        "            original_images.append(image)\n",
        "    original_images = np.array(original_images)\n",
        "\n",
        "    # Extract corrupted images\n",
        "    corrupted_images = []\n",
        "    for i in range(1, 301):\n",
        "        if i in [218, 219, 220, 221]:\n",
        "            continue\n",
        "        filename = f'MNIST{corrupted_folder}{i}.png'\n",
        "        with zip_file.open(filename) as image_file:\n",
        "            image = Image.open(image_file).convert('L')\n",
        "            image = np.array(image.resize(image_size))\n",
        "            corrupted_images.append(image)\n",
        "    corrupted_images = np.array(corrupted_images)"
      ],
      "metadata": {
        "id": "cR4Mm5N4QWf1"
      },
      "execution_count": 226,
      "outputs": []
    },
    {
      "cell_type": "markdown",
      "source": [
        "($\\textbf{Don't run the cell when you want to use original images!}$)\\\n",
        "Extracting original and corrupted images(from the test set)"
      ],
      "metadata": {
        "id": "MDMb-vsDopV8"
      }
    },
    {
      "cell_type": "code",
      "source": [
        "from scipy.stats import multivariate_normal\n",
        "import zipfile\n",
        "import numpy as np\n",
        "from PIL import Image\n",
        "\n",
        "# Define image size\n",
        "image_size = (28, 28)\n",
        "\n",
        "# Define paths to zip file and folders\n",
        "zip_path = 'MNIST-m=8.zip'\n",
        "corrupted_folder = '/corrupted/'\n",
        "indexes = range(1, 218) , range(222, 301)\n",
        "\n",
        "# Open zip file and extract images\n",
        "with zipfile.ZipFile(zip_path, 'r') as zip_file:\n",
        "\n",
        "    # Extract corrupted images\n",
        "    corrupted_images = []\n",
        "    for i in range(1, 301):\n",
        "        if i in [218, 219, 220, 221]:\n",
        "            continue\n",
        "        filename = f'MNIST{corrupted_folder}{i}.png'\n",
        "        with zip_file.open(filename) as image_file:\n",
        "            image = Image.open(image_file).convert('L')\n",
        "            image = np.array(image.resize(image_size))\n",
        "            corrupted_images.append(image)\n",
        "    corrupted_images = np.array(corrupted_images)"
      ],
      "metadata": {
        "id": "XZmMpbQvoscw"
      },
      "execution_count": 99,
      "outputs": []
    },
    {
      "cell_type": "markdown",
      "source": [
        "Extracting patches from the images"
      ],
      "metadata": {
        "id": "9PDCncelILCG"
      }
    },
    {
      "cell_type": "code",
      "source": [
        "def patchExtractor(x, m):\n",
        "  image_size = x[0].shape[1]\n",
        "  num_images = x.shape[0]  # number of images to use\n",
        "  patches_per_image = ((image_size - m + 1) ** 2)  # number of patches per image\n",
        "  num_patches = num_images * patches_per_image  # total number of patches\n",
        "\n",
        "  patches = np.zeros((num_patches, m ** 2))  # initialize array to hold patches\n",
        "\n",
        "  patch_count = 0  # initialize patch counter\n",
        "\n",
        "  for i in range(num_images):\n",
        "      image = x[i]\n",
        "      patches_view = np.lib.stride_tricks.as_strided(image, shape=(image_size - m + 1, image_size - m + 1, m, m), strides=image.strides * 2)\n",
        "      patches_reshaped = patches_view.reshape((-1, m ** 2))\n",
        "      patches[patch_count:patch_count + patches_reshaped.shape[0]] = patches_reshaped\n",
        "      patch_count += patches_reshaped.shape[0]\n",
        "  return patches\n",
        "\n",
        "corrupted_patches = patchExtractor(corrupted_images, m)\n",
        "original_patches = patchExtractor(original_images, m)"
      ],
      "metadata": {
        "id": "7FaLGVJX21KV"
      },
      "execution_count": 227,
      "outputs": []
    },
    {
      "cell_type": "markdown",
      "source": [
        "Determinig $\\sigma^2$ from the Dataset using Cross-Validation method; In such a way that we splitt the train set(for a specific m value we are training the model with), into test and train $X$ and $Y$ arrays. Then using cross-validation determine the best value of $\\sigma^2$ from them because the noise variance can be easily detected from them.\n",
        "\n",
        "\n"
      ],
      "metadata": {
        "id": "LUtgcm_7IO8U"
      }
    },
    {
      "cell_type": "code",
      "source": [
        "import numpy as np\n",
        "from sklearn.model_selection import KFold\n",
        "from scipy.stats import norm\n",
        "\n",
        "# Define the possible values of sigma^2\n",
        "sigmas = [5**2, 10**2, 20**2, 30**2, 50**2]\n",
        "\n",
        "# Define the number of folds for cross-validation\n",
        "k = 5\n",
        "\n",
        "# Load the matrix W from the .npy file\n",
        "W = np.load(\"W.npy\")\n",
        "\n",
        "# Create a cross-validation object\n",
        "kf = KFold(n_splits=k)\n",
        "\n",
        "# Initialize an array to store the mean squared errors for each value of sigma^2\n",
        "mse = np.zeros(len(sigmas))\n",
        "\n",
        "# Loop over the possible values of sigma^2\n",
        "for i, sigma in enumerate(sigmas):\n",
        "    # Initialize an array to store the squared errors for each fold\n",
        "    se = np.zeros(k)\n",
        "\n",
        "    # Loop over the folds\n",
        "    for j, (train_idx, test_idx) in enumerate(kf.split(original_patches)):\n",
        "        # Split the data into training and testing sets\n",
        "        Z_train, Z_test = original_patches[train_idx], original_patches[test_idx]\n",
        "        Y_train, Y_test = corrupted_patches[train_idx], corrupted_patches[test_idx]\n",
        "\n",
        "        # Compute the predicted values of Y for the testing data\n",
        "        Y_pred = np.dot(Z_test, W.T)\n",
        "\n",
        "        # Compute the probability density function of the normal distribution\n",
        "        # for each element of Y_pred and Y_test\n",
        "        p = norm.pdf(Y_pred - Y_test, loc=0, scale=sigma)\n",
        "\n",
        "        # Compute the negative log likelihood\n",
        "        se[j] = -np.mean(np.log(p))\n",
        "\n",
        "    # Compute the mean squared error over the folds\n",
        "    mse[i] = np.mean(se)\n",
        "\n",
        "# Find the index of the minimum mean squared error\n",
        "idx = np.argmin(mse)\n",
        "\n",
        "# Compute the best value of sigma^2\n",
        "sigma_best = sigmas[idx]\n",
        "\n",
        "# Print the best value of sigma^2\n",
        "print(\"Best value of sigma^2:\", sigma_best)"
      ],
      "metadata": {
        "colab": {
          "base_uri": "https://localhost:8080/"
        },
        "id": "TJOZVjiMHW2S",
        "outputId": "7b4243e7-6214-4579-9dff-eeb8bd5587a8"
      },
      "execution_count": 215,
      "outputs": [
        {
          "output_type": "stream",
          "name": "stdout",
          "text": [
            "Best value of sigma^2: 100\n"
          ]
        }
      ]
    },
    {
      "cell_type": "markdown",
      "source": [
        "Calculating the posterior for each patch and determining the best denoised patch using the formulas derived in Theory part."
      ],
      "metadata": {
        "id": "SuTtD-paK_a8"
      }
    },
    {
      "cell_type": "code",
      "source": [
        "from scipy.stats import multivariate_normal\n",
        "import sys\n",
        "\n",
        "# Load the matrix W from the .npy file\n",
        "W = np.load(\"W.npy\")\n",
        "\n",
        "k = 45 # starting sample images selected(index)\n",
        "l = 28 - m + 1\n",
        "cor2 = corrupted_patches[l**2 * k: l**2 * (k+8) + 1 ]\n",
        "\n",
        "# Calculate constant values\n",
        "eye_matrix = np.eye(m ** 2)\n",
        "noise_covariance = eye_matrix * (sigma_best) # 'sigma' should be the selected noise variance\n",
        "covariances_y = np.zeros_like(gmm.covariances_)\n",
        "small_value = 1e-7 * eye_matrix  # the small value added to the covariance matrix to make that become far from being singular\n",
        "covariances_z_y = np.zeros_like(gmm.covariances_)\n",
        "# Denoise the patches\n",
        "denoised_patches = np.zeros_like(cor2)\n",
        "for k in range(gmm.n_components):\n",
        "        covariance = gmm.covariances_[k]\n",
        "        # Compute pseudoinverse if matrix is nearly singular\n",
        "        if np.linalg.cond(covariance) < 1/sys.float_info.epsilon:\n",
        "            inv_covariance = np.linalg.inv(covariance)\n",
        "        else:\n",
        "            inv_covariance = np.linalg.pinv(covariance)\n",
        "\n",
        "        covariances_y[k] = noise_covariance\n",
        "        covariance_z_y = np.linalg.inv(np.linalg.inv(covariance) + np.dot(np.dot(W.T, np.linalg.inv(covariances_y[k])), W))\n",
        "\n",
        "        covariance_z_y += small_value * np.trace(covariance_z_y)/(m**2)\n",
        "        covariance_z_y = (covariance_z_y + covariance_z_y.T)/2\n",
        "        covariances_z_y[k] = covariance_z_y\n",
        "\n",
        "covariances_z_y.astype('float64')\n",
        "means_z_y = np.zeros_like(gmm.means_)\n",
        "for i in range(len(cor2)):\n",
        "    patch = cor2[i]\n",
        "    posterior_probs = np.zeros(gmm.n_components)\n",
        "\n",
        "    for k in range(gmm.n_components):\n",
        "        prior_prob = gmm.weights_[k]\n",
        "        mean = gmm.means_[k]\n",
        "        covariance = gmm.covariances_[k]\n",
        "\n",
        "        means_z_y[k] = np.dot(covariances_z_y[k], np.dot(W.T, np.linalg.inv(covariances_y[k]).dot(patch)) + np.dot(np.linalg.inv(covariance), mean))\n",
        "\n",
        "        means_z_y.astype('float64')\n",
        "        patch.astype('float64')\n",
        "\n",
        "        posterior_probs[k] = prior_prob * multivariate_normal.pdf(patch, mean=means_z_y[k], cov=covariance_z_y)\n",
        "\n",
        "    # Find the component with maximum probability\n",
        "    max_component = np.argmax(posterior_probs)\n",
        "\n",
        "    # Estimate the mean of the selected component\n",
        "    denoised_patches[i] = means_z_y[max_component]\n",
        "\n",
        "\n",
        "# Reshape denoised patches to m × m size\n",
        "denoised_patches = denoised_patches.reshape((-1, m, m))"
      ],
      "metadata": {
        "id": "OEIC3SvfYhjl"
      },
      "execution_count": 228,
      "outputs": []
    },
    {
      "cell_type": "markdown",
      "source": [
        "Depatching the denoised patches to result in the denoised images as desired in the Project descriptions."
      ],
      "metadata": {
        "id": "siDMHVRnMSFU"
      }
    },
    {
      "cell_type": "code",
      "source": [
        "l = 29 - m\n",
        "denoised_images = np.zeros((9, 28, 28), dtype=np.float64)  # Specify dtype as float64\n",
        "count = np.zeros((28, 28))\n",
        "for i in range(28):\n",
        "    for j in range(28):\n",
        "        count[i, j] = 1 / (min(min(i + 1, 28 - i), m) * min(min(j + 1, 28 - j), m))\n",
        "\n",
        "for n in range(len(cor2)):\n",
        "    image_number = n // (l ** 2)\n",
        "    col_number = n % l\n",
        "    row_number = (n % (l ** 2)) // l\n",
        "    denoised_images[image_number, row_number:row_number + m, col_number:col_number + m] += denoised_patches[n]\n",
        "    #the next two line were mentioned in the project to be done but the result without them is much better\n",
        "    #if(n + 1) % (l ** 2) == 0:\n",
        "    #  denoised_images[image_number, :, :] /= max(max(denoised_images[image_number, :, :], key=max))/255\n"
      ],
      "metadata": {
        "id": "mK7VhsDq3QzJ"
      },
      "execution_count": 229,
      "outputs": []
    },
    {
      "cell_type": "markdown",
      "source": [
        "($\\textbf{Don't run the cell always!}$)\\\n",
        "The next two cells are used when we want to save and download the denoised images."
      ],
      "metadata": {
        "id": "x6180_7OM-LJ"
      }
    },
    {
      "cell_type": "code",
      "source": [
        "from PIL import Image\n",
        "import time\n",
        "\n",
        "for i in range(31, 301):\n",
        "        if i in [218, 219, 220, 221]:\n",
        "            continue\n",
        "        path = f'/content/{i}.png'\n",
        "        if i in range (1, 218):\n",
        "          image = denoised_images[i-1]\n",
        "        else:\n",
        "          image = denoised_images[i-5]\n",
        "\n",
        "        image = Image.fromarray(np.uint8(image))\n",
        "        # Convert the image to grayscale\n",
        "        #image = image.convert('L')\n",
        "        image.save(path)\n",
        "        time.sleep(0.5)\n",
        "\n",
        "\n"
      ],
      "metadata": {
        "id": "ov5UeesHv3u2"
      },
      "execution_count": 153,
      "outputs": []
    },
    {
      "cell_type": "code",
      "source": [
        "for i in range(291, 301):\n",
        "        if i in [218, 219, 220, 221]:\n",
        "            continue\n",
        "        path = f'/content/{i}.png'\n",
        "        files.download(path)"
      ],
      "metadata": {
        "colab": {
          "base_uri": "https://localhost:8080/",
          "height": 17
        },
        "id": "BdP-z9E7-pEo",
        "outputId": "a88febaa-c5d1-49dc-91d0-da98a5782c4a"
      },
      "execution_count": 181,
      "outputs": [
        {
          "output_type": "display_data",
          "data": {
            "text/plain": [
              "<IPython.core.display.Javascript object>"
            ],
            "application/javascript": [
              "\n",
              "    async function download(id, filename, size) {\n",
              "      if (!google.colab.kernel.accessAllowed) {\n",
              "        return;\n",
              "      }\n",
              "      const div = document.createElement('div');\n",
              "      const label = document.createElement('label');\n",
              "      label.textContent = `Downloading \"${filename}\": `;\n",
              "      div.appendChild(label);\n",
              "      const progress = document.createElement('progress');\n",
              "      progress.max = size;\n",
              "      div.appendChild(progress);\n",
              "      document.body.appendChild(div);\n",
              "\n",
              "      const buffers = [];\n",
              "      let downloaded = 0;\n",
              "\n",
              "      const channel = await google.colab.kernel.comms.open(id);\n",
              "      // Send a message to notify the kernel that we're ready.\n",
              "      channel.send({})\n",
              "\n",
              "      for await (const message of channel.messages) {\n",
              "        // Send a message to notify the kernel that we're ready.\n",
              "        channel.send({})\n",
              "        if (message.buffers) {\n",
              "          for (const buffer of message.buffers) {\n",
              "            buffers.push(buffer);\n",
              "            downloaded += buffer.byteLength;\n",
              "            progress.value = downloaded;\n",
              "          }\n",
              "        }\n",
              "      }\n",
              "      const blob = new Blob(buffers, {type: 'application/binary'});\n",
              "      const a = document.createElement('a');\n",
              "      a.href = window.URL.createObjectURL(blob);\n",
              "      a.download = filename;\n",
              "      div.appendChild(a);\n",
              "      a.click();\n",
              "      div.remove();\n",
              "    }\n",
              "  "
            ]
          },
          "metadata": {}
        },
        {
          "output_type": "display_data",
          "data": {
            "text/plain": [
              "<IPython.core.display.Javascript object>"
            ],
            "application/javascript": [
              "download(\"download_497c0613-be26-4a6c-bd87-bb9b137531e6\", \"291.png\", 612)"
            ]
          },
          "metadata": {}
        },
        {
          "output_type": "display_data",
          "data": {
            "text/plain": [
              "<IPython.core.display.Javascript object>"
            ],
            "application/javascript": [
              "\n",
              "    async function download(id, filename, size) {\n",
              "      if (!google.colab.kernel.accessAllowed) {\n",
              "        return;\n",
              "      }\n",
              "      const div = document.createElement('div');\n",
              "      const label = document.createElement('label');\n",
              "      label.textContent = `Downloading \"${filename}\": `;\n",
              "      div.appendChild(label);\n",
              "      const progress = document.createElement('progress');\n",
              "      progress.max = size;\n",
              "      div.appendChild(progress);\n",
              "      document.body.appendChild(div);\n",
              "\n",
              "      const buffers = [];\n",
              "      let downloaded = 0;\n",
              "\n",
              "      const channel = await google.colab.kernel.comms.open(id);\n",
              "      // Send a message to notify the kernel that we're ready.\n",
              "      channel.send({})\n",
              "\n",
              "      for await (const message of channel.messages) {\n",
              "        // Send a message to notify the kernel that we're ready.\n",
              "        channel.send({})\n",
              "        if (message.buffers) {\n",
              "          for (const buffer of message.buffers) {\n",
              "            buffers.push(buffer);\n",
              "            downloaded += buffer.byteLength;\n",
              "            progress.value = downloaded;\n",
              "          }\n",
              "        }\n",
              "      }\n",
              "      const blob = new Blob(buffers, {type: 'application/binary'});\n",
              "      const a = document.createElement('a');\n",
              "      a.href = window.URL.createObjectURL(blob);\n",
              "      a.download = filename;\n",
              "      div.appendChild(a);\n",
              "      a.click();\n",
              "      div.remove();\n",
              "    }\n",
              "  "
            ]
          },
          "metadata": {}
        },
        {
          "output_type": "display_data",
          "data": {
            "text/plain": [
              "<IPython.core.display.Javascript object>"
            ],
            "application/javascript": [
              "download(\"download_f02de056-27d8-4f84-a1dd-d31a5149bddf\", \"292.png\", 608)"
            ]
          },
          "metadata": {}
        },
        {
          "output_type": "display_data",
          "data": {
            "text/plain": [
              "<IPython.core.display.Javascript object>"
            ],
            "application/javascript": [
              "\n",
              "    async function download(id, filename, size) {\n",
              "      if (!google.colab.kernel.accessAllowed) {\n",
              "        return;\n",
              "      }\n",
              "      const div = document.createElement('div');\n",
              "      const label = document.createElement('label');\n",
              "      label.textContent = `Downloading \"${filename}\": `;\n",
              "      div.appendChild(label);\n",
              "      const progress = document.createElement('progress');\n",
              "      progress.max = size;\n",
              "      div.appendChild(progress);\n",
              "      document.body.appendChild(div);\n",
              "\n",
              "      const buffers = [];\n",
              "      let downloaded = 0;\n",
              "\n",
              "      const channel = await google.colab.kernel.comms.open(id);\n",
              "      // Send a message to notify the kernel that we're ready.\n",
              "      channel.send({})\n",
              "\n",
              "      for await (const message of channel.messages) {\n",
              "        // Send a message to notify the kernel that we're ready.\n",
              "        channel.send({})\n",
              "        if (message.buffers) {\n",
              "          for (const buffer of message.buffers) {\n",
              "            buffers.push(buffer);\n",
              "            downloaded += buffer.byteLength;\n",
              "            progress.value = downloaded;\n",
              "          }\n",
              "        }\n",
              "      }\n",
              "      const blob = new Blob(buffers, {type: 'application/binary'});\n",
              "      const a = document.createElement('a');\n",
              "      a.href = window.URL.createObjectURL(blob);\n",
              "      a.download = filename;\n",
              "      div.appendChild(a);\n",
              "      a.click();\n",
              "      div.remove();\n",
              "    }\n",
              "  "
            ]
          },
          "metadata": {}
        },
        {
          "output_type": "display_data",
          "data": {
            "text/plain": [
              "<IPython.core.display.Javascript object>"
            ],
            "application/javascript": [
              "download(\"download_21f07304-8c0f-4f4d-a374-d2f5b994bfe8\", \"293.png\", 628)"
            ]
          },
          "metadata": {}
        },
        {
          "output_type": "display_data",
          "data": {
            "text/plain": [
              "<IPython.core.display.Javascript object>"
            ],
            "application/javascript": [
              "\n",
              "    async function download(id, filename, size) {\n",
              "      if (!google.colab.kernel.accessAllowed) {\n",
              "        return;\n",
              "      }\n",
              "      const div = document.createElement('div');\n",
              "      const label = document.createElement('label');\n",
              "      label.textContent = `Downloading \"${filename}\": `;\n",
              "      div.appendChild(label);\n",
              "      const progress = document.createElement('progress');\n",
              "      progress.max = size;\n",
              "      div.appendChild(progress);\n",
              "      document.body.appendChild(div);\n",
              "\n",
              "      const buffers = [];\n",
              "      let downloaded = 0;\n",
              "\n",
              "      const channel = await google.colab.kernel.comms.open(id);\n",
              "      // Send a message to notify the kernel that we're ready.\n",
              "      channel.send({})\n",
              "\n",
              "      for await (const message of channel.messages) {\n",
              "        // Send a message to notify the kernel that we're ready.\n",
              "        channel.send({})\n",
              "        if (message.buffers) {\n",
              "          for (const buffer of message.buffers) {\n",
              "            buffers.push(buffer);\n",
              "            downloaded += buffer.byteLength;\n",
              "            progress.value = downloaded;\n",
              "          }\n",
              "        }\n",
              "      }\n",
              "      const blob = new Blob(buffers, {type: 'application/binary'});\n",
              "      const a = document.createElement('a');\n",
              "      a.href = window.URL.createObjectURL(blob);\n",
              "      a.download = filename;\n",
              "      div.appendChild(a);\n",
              "      a.click();\n",
              "      div.remove();\n",
              "    }\n",
              "  "
            ]
          },
          "metadata": {}
        },
        {
          "output_type": "display_data",
          "data": {
            "text/plain": [
              "<IPython.core.display.Javascript object>"
            ],
            "application/javascript": [
              "download(\"download_c4e22f5a-63f6-43be-9c49-4f68bde0834c\", \"294.png\", 612)"
            ]
          },
          "metadata": {}
        },
        {
          "output_type": "display_data",
          "data": {
            "text/plain": [
              "<IPython.core.display.Javascript object>"
            ],
            "application/javascript": [
              "\n",
              "    async function download(id, filename, size) {\n",
              "      if (!google.colab.kernel.accessAllowed) {\n",
              "        return;\n",
              "      }\n",
              "      const div = document.createElement('div');\n",
              "      const label = document.createElement('label');\n",
              "      label.textContent = `Downloading \"${filename}\": `;\n",
              "      div.appendChild(label);\n",
              "      const progress = document.createElement('progress');\n",
              "      progress.max = size;\n",
              "      div.appendChild(progress);\n",
              "      document.body.appendChild(div);\n",
              "\n",
              "      const buffers = [];\n",
              "      let downloaded = 0;\n",
              "\n",
              "      const channel = await google.colab.kernel.comms.open(id);\n",
              "      // Send a message to notify the kernel that we're ready.\n",
              "      channel.send({})\n",
              "\n",
              "      for await (const message of channel.messages) {\n",
              "        // Send a message to notify the kernel that we're ready.\n",
              "        channel.send({})\n",
              "        if (message.buffers) {\n",
              "          for (const buffer of message.buffers) {\n",
              "            buffers.push(buffer);\n",
              "            downloaded += buffer.byteLength;\n",
              "            progress.value = downloaded;\n",
              "          }\n",
              "        }\n",
              "      }\n",
              "      const blob = new Blob(buffers, {type: 'application/binary'});\n",
              "      const a = document.createElement('a');\n",
              "      a.href = window.URL.createObjectURL(blob);\n",
              "      a.download = filename;\n",
              "      div.appendChild(a);\n",
              "      a.click();\n",
              "      div.remove();\n",
              "    }\n",
              "  "
            ]
          },
          "metadata": {}
        },
        {
          "output_type": "display_data",
          "data": {
            "text/plain": [
              "<IPython.core.display.Javascript object>"
            ],
            "application/javascript": [
              "download(\"download_34f5e15f-47d0-4fa4-bd27-c3d5af87c7e9\", \"295.png\", 616)"
            ]
          },
          "metadata": {}
        },
        {
          "output_type": "display_data",
          "data": {
            "text/plain": [
              "<IPython.core.display.Javascript object>"
            ],
            "application/javascript": [
              "\n",
              "    async function download(id, filename, size) {\n",
              "      if (!google.colab.kernel.accessAllowed) {\n",
              "        return;\n",
              "      }\n",
              "      const div = document.createElement('div');\n",
              "      const label = document.createElement('label');\n",
              "      label.textContent = `Downloading \"${filename}\": `;\n",
              "      div.appendChild(label);\n",
              "      const progress = document.createElement('progress');\n",
              "      progress.max = size;\n",
              "      div.appendChild(progress);\n",
              "      document.body.appendChild(div);\n",
              "\n",
              "      const buffers = [];\n",
              "      let downloaded = 0;\n",
              "\n",
              "      const channel = await google.colab.kernel.comms.open(id);\n",
              "      // Send a message to notify the kernel that we're ready.\n",
              "      channel.send({})\n",
              "\n",
              "      for await (const message of channel.messages) {\n",
              "        // Send a message to notify the kernel that we're ready.\n",
              "        channel.send({})\n",
              "        if (message.buffers) {\n",
              "          for (const buffer of message.buffers) {\n",
              "            buffers.push(buffer);\n",
              "            downloaded += buffer.byteLength;\n",
              "            progress.value = downloaded;\n",
              "          }\n",
              "        }\n",
              "      }\n",
              "      const blob = new Blob(buffers, {type: 'application/binary'});\n",
              "      const a = document.createElement('a');\n",
              "      a.href = window.URL.createObjectURL(blob);\n",
              "      a.download = filename;\n",
              "      div.appendChild(a);\n",
              "      a.click();\n",
              "      div.remove();\n",
              "    }\n",
              "  "
            ]
          },
          "metadata": {}
        },
        {
          "output_type": "display_data",
          "data": {
            "text/plain": [
              "<IPython.core.display.Javascript object>"
            ],
            "application/javascript": [
              "download(\"download_2953de6c-c064-4986-be54-1fe3cfa9e250\", \"296.png\", 606)"
            ]
          },
          "metadata": {}
        },
        {
          "output_type": "display_data",
          "data": {
            "text/plain": [
              "<IPython.core.display.Javascript object>"
            ],
            "application/javascript": [
              "\n",
              "    async function download(id, filename, size) {\n",
              "      if (!google.colab.kernel.accessAllowed) {\n",
              "        return;\n",
              "      }\n",
              "      const div = document.createElement('div');\n",
              "      const label = document.createElement('label');\n",
              "      label.textContent = `Downloading \"${filename}\": `;\n",
              "      div.appendChild(label);\n",
              "      const progress = document.createElement('progress');\n",
              "      progress.max = size;\n",
              "      div.appendChild(progress);\n",
              "      document.body.appendChild(div);\n",
              "\n",
              "      const buffers = [];\n",
              "      let downloaded = 0;\n",
              "\n",
              "      const channel = await google.colab.kernel.comms.open(id);\n",
              "      // Send a message to notify the kernel that we're ready.\n",
              "      channel.send({})\n",
              "\n",
              "      for await (const message of channel.messages) {\n",
              "        // Send a message to notify the kernel that we're ready.\n",
              "        channel.send({})\n",
              "        if (message.buffers) {\n",
              "          for (const buffer of message.buffers) {\n",
              "            buffers.push(buffer);\n",
              "            downloaded += buffer.byteLength;\n",
              "            progress.value = downloaded;\n",
              "          }\n",
              "        }\n",
              "      }\n",
              "      const blob = new Blob(buffers, {type: 'application/binary'});\n",
              "      const a = document.createElement('a');\n",
              "      a.href = window.URL.createObjectURL(blob);\n",
              "      a.download = filename;\n",
              "      div.appendChild(a);\n",
              "      a.click();\n",
              "      div.remove();\n",
              "    }\n",
              "  "
            ]
          },
          "metadata": {}
        },
        {
          "output_type": "display_data",
          "data": {
            "text/plain": [
              "<IPython.core.display.Javascript object>"
            ],
            "application/javascript": [
              "download(\"download_09e63185-a3b7-4546-b7fa-ace61b120525\", \"297.png\", 614)"
            ]
          },
          "metadata": {}
        },
        {
          "output_type": "display_data",
          "data": {
            "text/plain": [
              "<IPython.core.display.Javascript object>"
            ],
            "application/javascript": [
              "\n",
              "    async function download(id, filename, size) {\n",
              "      if (!google.colab.kernel.accessAllowed) {\n",
              "        return;\n",
              "      }\n",
              "      const div = document.createElement('div');\n",
              "      const label = document.createElement('label');\n",
              "      label.textContent = `Downloading \"${filename}\": `;\n",
              "      div.appendChild(label);\n",
              "      const progress = document.createElement('progress');\n",
              "      progress.max = size;\n",
              "      div.appendChild(progress);\n",
              "      document.body.appendChild(div);\n",
              "\n",
              "      const buffers = [];\n",
              "      let downloaded = 0;\n",
              "\n",
              "      const channel = await google.colab.kernel.comms.open(id);\n",
              "      // Send a message to notify the kernel that we're ready.\n",
              "      channel.send({})\n",
              "\n",
              "      for await (const message of channel.messages) {\n",
              "        // Send a message to notify the kernel that we're ready.\n",
              "        channel.send({})\n",
              "        if (message.buffers) {\n",
              "          for (const buffer of message.buffers) {\n",
              "            buffers.push(buffer);\n",
              "            downloaded += buffer.byteLength;\n",
              "            progress.value = downloaded;\n",
              "          }\n",
              "        }\n",
              "      }\n",
              "      const blob = new Blob(buffers, {type: 'application/binary'});\n",
              "      const a = document.createElement('a');\n",
              "      a.href = window.URL.createObjectURL(blob);\n",
              "      a.download = filename;\n",
              "      div.appendChild(a);\n",
              "      a.click();\n",
              "      div.remove();\n",
              "    }\n",
              "  "
            ]
          },
          "metadata": {}
        },
        {
          "output_type": "display_data",
          "data": {
            "text/plain": [
              "<IPython.core.display.Javascript object>"
            ],
            "application/javascript": [
              "download(\"download_f7499ef8-f5f8-4e01-a7af-1390ce884805\", \"298.png\", 641)"
            ]
          },
          "metadata": {}
        },
        {
          "output_type": "display_data",
          "data": {
            "text/plain": [
              "<IPython.core.display.Javascript object>"
            ],
            "application/javascript": [
              "\n",
              "    async function download(id, filename, size) {\n",
              "      if (!google.colab.kernel.accessAllowed) {\n",
              "        return;\n",
              "      }\n",
              "      const div = document.createElement('div');\n",
              "      const label = document.createElement('label');\n",
              "      label.textContent = `Downloading \"${filename}\": `;\n",
              "      div.appendChild(label);\n",
              "      const progress = document.createElement('progress');\n",
              "      progress.max = size;\n",
              "      div.appendChild(progress);\n",
              "      document.body.appendChild(div);\n",
              "\n",
              "      const buffers = [];\n",
              "      let downloaded = 0;\n",
              "\n",
              "      const channel = await google.colab.kernel.comms.open(id);\n",
              "      // Send a message to notify the kernel that we're ready.\n",
              "      channel.send({})\n",
              "\n",
              "      for await (const message of channel.messages) {\n",
              "        // Send a message to notify the kernel that we're ready.\n",
              "        channel.send({})\n",
              "        if (message.buffers) {\n",
              "          for (const buffer of message.buffers) {\n",
              "            buffers.push(buffer);\n",
              "            downloaded += buffer.byteLength;\n",
              "            progress.value = downloaded;\n",
              "          }\n",
              "        }\n",
              "      }\n",
              "      const blob = new Blob(buffers, {type: 'application/binary'});\n",
              "      const a = document.createElement('a');\n",
              "      a.href = window.URL.createObjectURL(blob);\n",
              "      a.download = filename;\n",
              "      div.appendChild(a);\n",
              "      a.click();\n",
              "      div.remove();\n",
              "    }\n",
              "  "
            ]
          },
          "metadata": {}
        },
        {
          "output_type": "display_data",
          "data": {
            "text/plain": [
              "<IPython.core.display.Javascript object>"
            ],
            "application/javascript": [
              "download(\"download_5f5262ca-b916-4be3-82bf-08e371124c09\", \"299.png\", 634)"
            ]
          },
          "metadata": {}
        },
        {
          "output_type": "display_data",
          "data": {
            "text/plain": [
              "<IPython.core.display.Javascript object>"
            ],
            "application/javascript": [
              "\n",
              "    async function download(id, filename, size) {\n",
              "      if (!google.colab.kernel.accessAllowed) {\n",
              "        return;\n",
              "      }\n",
              "      const div = document.createElement('div');\n",
              "      const label = document.createElement('label');\n",
              "      label.textContent = `Downloading \"${filename}\": `;\n",
              "      div.appendChild(label);\n",
              "      const progress = document.createElement('progress');\n",
              "      progress.max = size;\n",
              "      div.appendChild(progress);\n",
              "      document.body.appendChild(div);\n",
              "\n",
              "      const buffers = [];\n",
              "      let downloaded = 0;\n",
              "\n",
              "      const channel = await google.colab.kernel.comms.open(id);\n",
              "      // Send a message to notify the kernel that we're ready.\n",
              "      channel.send({})\n",
              "\n",
              "      for await (const message of channel.messages) {\n",
              "        // Send a message to notify the kernel that we're ready.\n",
              "        channel.send({})\n",
              "        if (message.buffers) {\n",
              "          for (const buffer of message.buffers) {\n",
              "            buffers.push(buffer);\n",
              "            downloaded += buffer.byteLength;\n",
              "            progress.value = downloaded;\n",
              "          }\n",
              "        }\n",
              "      }\n",
              "      const blob = new Blob(buffers, {type: 'application/binary'});\n",
              "      const a = document.createElement('a');\n",
              "      a.href = window.URL.createObjectURL(blob);\n",
              "      a.download = filename;\n",
              "      div.appendChild(a);\n",
              "      a.click();\n",
              "      div.remove();\n",
              "    }\n",
              "  "
            ]
          },
          "metadata": {}
        },
        {
          "output_type": "display_data",
          "data": {
            "text/plain": [
              "<IPython.core.display.Javascript object>"
            ],
            "application/javascript": [
              "download(\"download_43274b85-e1c1-4631-a59f-a9b62ad9361f\", \"300.png\", 530)"
            ]
          },
          "metadata": {}
        }
      ]
    },
    {
      "cell_type": "markdown",
      "source": [
        "Calculating MSE between the original images and denoised ones."
      ],
      "metadata": {
        "id": "sYHc5hOBNVny"
      }
    },
    {
      "cell_type": "code",
      "source": [
        "def calculate_mse(x, y, num_images):\n",
        "\n",
        "    image_size = original_images.shape[1]\n",
        "\n",
        "    mse = 0.0\n",
        "\n",
        "    for i in range(num_images):\n",
        "        a = x[i].astype(np.int32)\n",
        "        b = y[i].astype(np.int32)\n",
        "        mse += np.mean((a - b) ** 2)\n",
        "\n",
        "    mse /= num_images * image_size ** 2\n",
        "\n",
        "    return mse\n",
        "\n",
        "mse = calculate_mse(original_images[50:52], denoised_images[4:6], 1)\n",
        "print(f'MSE for the two instance images with K = 11 and m = 20 is ', mse)"
      ],
      "metadata": {
        "colab": {
          "base_uri": "https://localhost:8080/"
        },
        "id": "8Yi4i98SDvAM",
        "outputId": "50e96da7-d5ed-4d42-c3b2-cd1a81ffd410"
      },
      "execution_count": 77,
      "outputs": [
        {
          "output_type": "stream",
          "name": "stdout",
          "text": [
            "MSE for the two instance images with K = 11 and m = 20 is  8.52209528581841\n"
          ]
        }
      ]
    },
    {
      "cell_type": "markdown",
      "source": [
        "Showing the result of denoising process for two instance images.\\\n",
        "The left one is denoise image, the middle one is the original one and the right is corrupted."
      ],
      "metadata": {
        "id": "zVKkBx6mPRha"
      }
    },
    {
      "cell_type": "code",
      "source": [
        "from pylab import *\n",
        "from matplotlib import pyplot as plt\n",
        "plt.subplot(2,3,1)\n",
        "imshow(denoised_images[6],cmap='gray')\n",
        "grid(True)\n",
        "plt.subplot(2,3,2)\n",
        "imshow(original_images[51],cmap='gray')\n",
        "grid(True)\n",
        "plt.subplot(2,3,3)\n",
        "imshow(corrupted_images[51],cmap='gray')\n",
        "grid(True)\n",
        "plt.subplot(2,3,4)\n",
        "imshow(denoised_images[5],cmap='gray')\n",
        "grid(True)\n",
        "plt.subplot(2,3,5)\n",
        "imshow(original_images[50],cmap='gray')\n",
        "grid(True)\n",
        "plt.subplot(2,3,6)\n",
        "imshow(corrupted_images[50],cmap='gray')\n",
        "grid(True)"
      ],
      "metadata": {
        "colab": {
          "base_uri": "https://localhost:8080/",
          "height": 411
        },
        "id": "y1w73iJL3wjh",
        "outputId": "ce58998a-e6c5-47f2-d587-466c19aa21c2"
      },
      "execution_count": 230,
      "outputs": [
        {
          "output_type": "display_data",
          "data": {
            "text/plain": [
              "<Figure size 640x480 with 6 Axes>"
            ],
            "image/png": "[encoded data removed]"
          },
          "metadata": {}
        }
      ]
    },
    {
      "cell_type": "markdown",
      "source": [
        "($\\textbf{Don't run the cell always!}$)\\\n",
        "The result of comparing denoised images versus corrupted images(for test data with the best hyperparameters.)"
      ],
      "metadata": {
        "id": "sPVpQkFWCuM4"
      }
    },
    {
      "cell_type": "code",
      "source": [
        "from pylab import *\n",
        "from matplotlib import pyplot as plt\n",
        "plt.subplot(2,5,1)\n",
        "imshow(denoised_images[29],cmap='gray')\n",
        "grid(True)\n",
        "plt.subplot(2,5,2)\n",
        "imshow(denoised_images[10],cmap='gray')\n",
        "grid(True)\n",
        "plt.subplot(2,5,3)\n",
        "imshow(denoised_images[32],cmap='gray')\n",
        "grid(True)\n",
        "plt.subplot(2,5,4)\n",
        "imshow(denoised_images[87],cmap='gray')\n",
        "grid(True)\n",
        "plt.subplot(2,5,5)\n",
        "imshow(denoised_images[57],cmap='gray')\n",
        "grid(True)\n",
        "plt.subplot(2,5,6)\n",
        "imshow(denoised_images[44],cmap='gray')\n",
        "grid(True)\n",
        "plt.subplot(2,5,7)\n",
        "imshow(denoised_images[108],cmap='gray')\n",
        "grid(True)\n",
        "plt.subplot(2,5,8)\n",
        "imshow(denoised_images[8],cmap='gray')\n",
        "grid(True)\n",
        "plt.subplot(2,5,9)\n",
        "imshow(denoised_images[12],cmap='gray')\n",
        "grid(True)\n",
        "plt.subplot(2,5,10)\n",
        "imshow(denoised_images[43],cmap='gray')\n",
        "grid(True)"
      ],
      "metadata": {
        "colab": {
          "base_uri": "https://localhost:8080/",
          "height": 351
        },
        "id": "fNCDhJOV1ztV",
        "outputId": "f9786fcb-7960-4dc9-f348-acfdc5573074"
      },
      "execution_count": 209,
      "outputs": [
        {
          "output_type": "display_data",
          "data": {
            "text/plain": [
              "<Figure size 640x480 with 10 Axes>"
            ],
            "image/png": "[encoded data removed]"
          },
          "metadata": {}
        }
      ]
    }
  ]
}